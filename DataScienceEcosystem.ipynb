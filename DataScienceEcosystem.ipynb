{
 "cells": [
  {
   "cell_type": "markdown",
   "id": "976c4842",
   "metadata": {},
   "source": [
    "<center>\n",
    "    <img src=\"https://cf-courses-data.s3.us.cloud-object-storage.appdomain.cloud/IBMDeveloperSkillsNetwork-DS0105EN-SkillsNetwork/labs/Module2/images/SN_web_lightmode.png\" width=\"300\" alt=\"cognitiveclass.ai logo\">\n",
    "</center>\n"
   ]
  },
  {
   "cell_type": "markdown",
   "id": "4c0fd59e",
   "metadata": {},
   "source": [
    "#### Add your code below following the instructions given in the course\n"
   ]
  },
  {
   "cell_type": "markdown",
   "id": "424b1cfe",
   "metadata": {},
   "source": [
    "# Data Science Tools and Ecosystem"
   ]
  },
  {
   "cell_type": "markdown",
   "id": "fd8f4f89",
   "metadata": {},
   "source": [
    "In this notebook, Data Science Tools and Ecosystem are summarized."
   ]
  },
  {
   "cell_type": "markdown",
   "id": "2454c83d",
   "metadata": {},
   "source": [
    "**Objectives:**\n",
    "* Create a Jupyter Notebook with markdown and code cells\n",
    "* List examples of languages, libraries and tools used in Data Science\n",
    "* Share your Jupyter Notebook publicly on GitHub\n",
    "* Evaluate notebooks submitted by your peers using the provided rubric\n",
    "* Demonstrate proficiency in Data Science toolkit knowledge"
   ]
  },
  {
   "cell_type": "markdown",
   "id": "50304c8e",
   "metadata": {},
   "source": [
    "Some of the popular languages that Data Scientists use are:\n",
    "1. Python\n",
    "2. R\n",
    "3. SQL"
   ]
  },
  {
   "cell_type": "markdown",
   "id": "fce5f39a",
   "metadata": {},
   "source": [
    "Some of the commonly used libraries used by Data Scientists include:\n",
    "1. dplyr\n",
    "2. stringr\n",
    "3. ggplot\n",
    "4. Pandas\n",
    "5. Matplotlib\n",
    "6. Numpy\n",
    "7. Seaborn\n",
    "8. Scikit-learn\n",
    "9. TensorFlow\n",
    "10. PyTorch"
   ]
  },
  {
   "cell_type": "markdown",
   "id": "ad6fc0a6",
   "metadata": {},
   "source": [
    "| Data Science Tools |\n",
    "| :------------------|\n",
    "| Jupyter Notebook |\n",
    "| RStudio |\n",
    "| Visual Studio Code |"
   ]
  },
  {
   "cell_type": "markdown",
   "id": "70db51f7",
   "metadata": {},
   "source": [
    "### Below are a few examples of evaluating arithmetic expressions in Python"
   ]
  },
  {
   "cell_type": "code",
   "execution_count": 1,
   "id": "7dad5ef3",
   "metadata": {},
   "outputs": [
    {
     "data": {
      "text/plain": [
       "17"
      ]
     },
     "execution_count": 1,
     "metadata": {},
     "output_type": "execute_result"
    }
   ],
   "source": [
    "# This a simple arithmetic expression to mutiply then add integers\n",
    "(3*4)+5"
   ]
  },
  {
   "cell_type": "code",
   "execution_count": 2,
   "id": "1ceb523e",
   "metadata": {},
   "outputs": [
    {
     "data": {
      "text/plain": [
       "3.33"
      ]
     },
     "execution_count": 2,
     "metadata": {},
     "output_type": "execute_result"
    }
   ],
   "source": [
    "# This will convert 200 minutes to hours by diving by 60\n",
    "round (200 / 60 , 2)"
   ]
  },
  {
   "cell_type": "markdown",
   "id": "7b160e26",
   "metadata": {},
   "source": [
    "## Author\n",
    "Naser Alshakhoori"
   ]
  }
 ],
 "metadata": {
  "kernelspec": {
   "display_name": "Python 3 (ipykernel)",
   "language": "python",
   "name": "python3"
  },
  "language_info": {
   "codemirror_mode": {
    "name": "ipython",
    "version": 3
   },
   "file_extension": ".py",
   "mimetype": "text/x-python",
   "name": "python",
   "nbconvert_exporter": "python",
   "pygments_lexer": "ipython3",
   "version": "3.9.12"
  }
 },
 "nbformat": 4,
 "nbformat_minor": 5
}
